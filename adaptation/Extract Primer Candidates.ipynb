{
 "cells": [
  {
   "cell_type": "code",
   "execution_count": 1,
   "metadata": {},
   "outputs": [],
   "source": [
    "lines = []\n",
    "with open(\"library_records.fa\", \"r\") as file:\n",
    "    for line in file:\n",
    "        lines.append(line)"
   ]
  },
  {
   "cell_type": "code",
   "execution_count": 12,
   "metadata": {},
   "outputs": [],
   "source": [
    "primer_names = []\n",
    "primer_sequences = []\n",
    "primer_sequence = \"\"\n",
    "for line in lines:\n",
    "    if line[0] == \">\":\n",
    "        if len(primer_sequence) > 0:\n",
    "            primer_sequences.append(primer_sequence)\n",
    "        primer_names.append(line[1:-1])\n",
    "        primer_sequence = \"\"\n",
    "    else:\n",
    "        primer_sequence += line[:-1]\n",
    "primer_sequences.append(primer_sequence)"
   ]
  },
  {
   "cell_type": "code",
   "execution_count": 16,
   "metadata": {},
   "outputs": [
    {
     "name": "stdout",
     "output_type": "stream",
     "text": [
      "63\n",
      "63\n",
      "ACIAD_RS02445 527523-526685,-1\n"
     ]
    }
   ],
   "source": [
    "print(len(primer_names))\n",
    "print(len(primer_sequences))\n",
    "print(primer_names[-1])"
   ]
  },
  {
   "cell_type": "code",
   "execution_count": 28,
   "metadata": {},
   "outputs": [
    {
     "name": "stdout",
     "output_type": "stream",
     "text": [
      "ATGC\n"
     ]
    }
   ],
   "source": [
    "def compliment(letter):\n",
    "    if letter == \"A\":\n",
    "        return \"T\"\n",
    "    elif letter == \"T\":\n",
    "        return \"A\"\n",
    "    elif letter == \"G\":\n",
    "        return \"C\"\n",
    "    elif letter == \"C\":\n",
    "        return \"G\"\n",
    "    else:\n",
    "        return None\n",
    "\n",
    "def rc(gene_seq):\n",
    "    rev_gene_seq = gene_seq[::-1]\n",
    "    rc_gene_seq = [compliment(letter) for letter in rev_gene_seq]\n",
    "    rc_string = \"\"\n",
    "    for letter in rc_gene_seq:\n",
    "        rc_string += letter\n",
    "    return rc_string\n",
    "print(rc(\"GCAT\"))"
   ]
  },
  {
   "cell_type": "code",
   "execution_count": 29,
   "metadata": {},
   "outputs": [],
   "source": [
    "fwd_primer_seqs = []\n",
    "rvs_primer_seqs = []\n",
    "\n",
    "for seq in primer_sequences:\n",
    "    fwd_primer_seqs.append(seq[:60])\n",
    "    rvs_primer_seqs.append(rc(seq[-60:]))"
   ]
  },
  {
   "cell_type": "code",
   "execution_count": 38,
   "metadata": {},
   "outputs": [],
   "source": [
    "# Make the files that contain the \n",
    "for i in range(len(primer_sequences)):\n",
    "    fwd_title = \"fwd_\" + primer_names[i][:13] + \".txt\"\n",
    "    rev_title = \"rev_\" + primer_names[i][:13] + \".txt\"\n",
    "    with open(fwd_title, 'w') as file:\n",
    "        file.write(fwd_primer_seqs[i])\n",
    "    with open(rev_title, 'w') as file:\n",
    "        file.write(rvs_primer_seqs[i])\n",
    "    \n"
   ]
  },
  {
   "cell_type": "code",
   "execution_count": null,
   "metadata": {},
   "outputs": [],
   "source": []
  }
 ],
 "metadata": {
  "kernelspec": {
   "display_name": "Python 3",
   "language": "python",
   "name": "python3"
  },
  "language_info": {
   "codemirror_mode": {
    "name": "ipython",
    "version": 3
   },
   "file_extension": ".py",
   "mimetype": "text/x-python",
   "name": "python",
   "nbconvert_exporter": "python",
   "pygments_lexer": "ipython3",
   "version": "3.8.5"
  }
 },
 "nbformat": 4,
 "nbformat_minor": 4
}
